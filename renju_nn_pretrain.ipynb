{
 "cells": [
  {
   "cell_type": "code",
   "execution_count": 1,
   "metadata": {},
   "outputs": [
    {
     "name": "stderr",
     "output_type": "stream",
     "text": [
      "/home/nuwanda/anaconda3/lib/python3.6/site-packages/h5py/__init__.py:36: FutureWarning: Conversion of the second argument of issubdtype from `float` to `np.floating` is deprecated. In future, it will be treated as `np.float64 == np.dtype(float).type`.\n",
      "  from ._conv import register_converters as _register_converters\n",
      "Using TensorFlow backend.\n"
     ]
    }
   ],
   "source": [
    "import itertools\n",
    "import json\n",
    "import os\n",
    "import numpy as np\n",
    "import tensorflow as tf\n",
    "import keras\n",
    "from keras.models import Model\n",
    "from keras.models import load_model\n",
    "from keras.layers import Dense, Dropout, Flatten, Reshape, Input\n",
    "from keras.layers import Conv2D, MaxPooling2D, LeakyReLU, Activation\n",
    "from keras.layers.normalization import BatchNormalization\n",
    "from keras.optimizers import SGD\n",
    "from keras.regularizers import l2\n",
    "\n",
    "from lib.config import BOARD_SIZE"
   ]
  },
  {
   "cell_type": "code",
   "execution_count": 2,
   "metadata": {},
   "outputs": [],
   "source": [
    "L2_E = 1e-4\n",
    "\n",
    "def get_model():\n",
    "    model_input = Input(shape=(BOARD_SIZE, BOARD_SIZE))\n",
    "    input_shape = Reshape((BOARD_SIZE, BOARD_SIZE, 1))(model_input)\n",
    "    init_conv = Activation('relu')(Conv2D(128, (5, 5), padding='same')(input_shape))\n",
    "\n",
    "    main_conv1 = Activation('relu')(Conv2D(128, (3, 3), padding='same', kernel_regularizer=l2(L2_E))(init_conv))\n",
    "    main_conv2 = Activation('relu')(Conv2D(128, (3, 3), padding='same', kernel_regularizer=l2(L2_E))(main_conv1))\n",
    "    main_conv3 = Activation('relu')(Conv2D(128, (3, 3), padding='same', kernel_regularizer=l2(L2_E))(main_conv2))\n",
    "    main_conv4 = Activation('relu')(Conv2D(128, (3, 3), padding='same', kernel_regularizer=l2(L2_E))(main_conv3))\n",
    "\n",
    "    conv_probs = Activation('relu')(Conv2D(4, (1, 1), activation=\"relu\", kernel_regularizer=l2(L2_E), padding='same')(main_conv4))\n",
    "    flat_probs = Flatten()(conv_probs)\n",
    "    probs = Dense(BOARD_SIZE*BOARD_SIZE, activation=\"softmax\", kernel_regularizer=l2(L2_E), name='probs')(flat_probs)\n",
    "    \n",
    "    conv_win = Activation('relu')(Conv2D(2, (1, 1), padding='same', kernel_regularizer=l2(L2_E))(main_conv4))\n",
    "    flat_win = Flatten()(conv_win)\n",
    "    win = Dense(1, activation='tanh', name='win', kernel_regularizer=l2(L2_E))(flat_win)\n",
    "\n",
    "    model = Model(inputs=model_input, outputs=[probs, win])\n",
    "    model.compile(\n",
    "        loss=['categorical_crossentropy', 'mean_squared_error'], optimizer='adam', metrics=['accuracy']\n",
    "    )\n",
    "    return model"
   ]
  },
  {
   "cell_type": "code",
   "execution_count": 3,
   "metadata": {},
   "outputs": [],
   "source": [
    "def generator(data):\n",
    "    size, X, y, win = 0, [], [], []\n",
    "    for item in data:\n",
    "        X.append(item[0])\n",
    "        y.append(item[1])\n",
    "        win.append(item[2])\n",
    "        size += 1\n",
    "        if size == BATCH_SIZE:\n",
    "            yield np.float64(np.array(X)).reshape((size, 15, 15)), \\\n",
    "                  [np.array(y).reshape((size, 225)), np.array(win).reshape((size, 1))]\n",
    "            size, X, y, win = 0, [], [], []"
   ]
  },
  {
   "cell_type": "code",
   "execution_count": 4,
   "metadata": {},
   "outputs": [],
   "source": [
    "def get_additional_train_data():\n",
    "    pass\n"
   ]
  },
  {
   "cell_type": "code",
   "execution_count": 5,
   "metadata": {},
   "outputs": [],
   "source": [
    "def get_train_data(ind=0):\n",
    "    with open('good_ones/policy_{}.json'.format(str(ind))) as f:\n",
    "        train_data = json.load(f)\n",
    "    return train_data"
   ]
  },
  {
   "cell_type": "code",
   "execution_count": 6,
   "metadata": {},
   "outputs": [
    {
     "name": "stdout",
     "output_type": "stream",
     "text": [
      "WARNING:tensorflow:From /home/nuwanda/anaconda3/lib/python3.6/site-packages/tensorflow/python/framework/op_def_library.py:263: colocate_with (from tensorflow.python.framework.ops) is deprecated and will be removed in a future version.\n",
      "Instructions for updating:\n",
      "Colocations handled automatically by placer.\n",
      "__________________________________________________________________________________________________\n",
      "Layer (type)                    Output Shape         Param #     Connected to                     \n",
      "==================================================================================================\n",
      "input_1 (InputLayer)            (None, 15, 15)       0                                            \n",
      "__________________________________________________________________________________________________\n",
      "reshape_1 (Reshape)             (None, 15, 15, 1)    0           input_1[0][0]                    \n",
      "__________________________________________________________________________________________________\n",
      "conv2d_1 (Conv2D)               (None, 15, 15, 128)  3328        reshape_1[0][0]                  \n",
      "__________________________________________________________________________________________________\n",
      "activation_1 (Activation)       (None, 15, 15, 128)  0           conv2d_1[0][0]                   \n",
      "__________________________________________________________________________________________________\n",
      "conv2d_2 (Conv2D)               (None, 15, 15, 128)  147584      activation_1[0][0]               \n",
      "__________________________________________________________________________________________________\n",
      "activation_2 (Activation)       (None, 15, 15, 128)  0           conv2d_2[0][0]                   \n",
      "__________________________________________________________________________________________________\n",
      "conv2d_3 (Conv2D)               (None, 15, 15, 128)  147584      activation_2[0][0]               \n",
      "__________________________________________________________________________________________________\n",
      "activation_3 (Activation)       (None, 15, 15, 128)  0           conv2d_3[0][0]                   \n",
      "__________________________________________________________________________________________________\n",
      "conv2d_4 (Conv2D)               (None, 15, 15, 128)  147584      activation_3[0][0]               \n",
      "__________________________________________________________________________________________________\n",
      "activation_4 (Activation)       (None, 15, 15, 128)  0           conv2d_4[0][0]                   \n",
      "__________________________________________________________________________________________________\n",
      "conv2d_5 (Conv2D)               (None, 15, 15, 128)  147584      activation_4[0][0]               \n",
      "__________________________________________________________________________________________________\n",
      "activation_5 (Activation)       (None, 15, 15, 128)  0           conv2d_5[0][0]                   \n",
      "__________________________________________________________________________________________________\n",
      "conv2d_6 (Conv2D)               (None, 15, 15, 4)    516         activation_5[0][0]               \n",
      "__________________________________________________________________________________________________\n",
      "conv2d_7 (Conv2D)               (None, 15, 15, 2)    258         activation_5[0][0]               \n",
      "__________________________________________________________________________________________________\n",
      "activation_6 (Activation)       (None, 15, 15, 4)    0           conv2d_6[0][0]                   \n",
      "__________________________________________________________________________________________________\n",
      "activation_7 (Activation)       (None, 15, 15, 2)    0           conv2d_7[0][0]                   \n",
      "__________________________________________________________________________________________________\n",
      "flatten_1 (Flatten)             (None, 900)          0           activation_6[0][0]               \n",
      "__________________________________________________________________________________________________\n",
      "flatten_2 (Flatten)             (None, 450)          0           activation_7[0][0]               \n",
      "__________________________________________________________________________________________________\n",
      "probs (Dense)                   (None, 225)          202725      flatten_1[0][0]                  \n",
      "__________________________________________________________________________________________________\n",
      "win (Dense)                     (None, 1)            451         flatten_2[0][0]                  \n",
      "==================================================================================================\n",
      "Total params: 797,614\n",
      "Trainable params: 797,614\n",
      "Non-trainable params: 0\n",
      "__________________________________________________________________________________________________\n"
     ]
    }
   ],
   "source": [
    "from random import shuffle\n",
    "model = get_model()\n",
    "model.summary()"
   ]
  },
  {
   "cell_type": "code",
   "execution_count": null,
   "metadata": {},
   "outputs": [
    {
     "name": "stdout",
     "output_type": "stream",
     "text": [
      "model loaded from file renju_nn_big_model/policy_306.h5\n",
      "index 308, data size 129616\n",
      "Epoch 1/1\n",
      "4050/4050 [==============================] - 243s 60ms/step - loss: 2.9464 - probs_loss: 1.7774 - win_loss: 0.9704 - probs_acc: 0.4935 - win_acc: 0.0296\n",
      "index 309, data size 143532\n",
      "Epoch 1/1\n",
      "4485/4485 [==============================] - 271s 60ms/step - loss: 2.8918 - probs_loss: 1.7205 - win_loss: 0.9687 - probs_acc: 0.5271 - win_acc: 0.0314\n",
      "index 310, data size 146268\n",
      "Epoch 1/1\n",
      "4570/4570 [==============================] - 276s 60ms/step - loss: 3.0939 - probs_loss: 1.9223 - win_loss: 0.9684 - probs_acc: 0.4688 - win_acc: 0.0316\n",
      "index 311, data size 133344\n",
      "Epoch 1/1\n",
      "4167/4167 [==============================] - 234s 56ms/step - loss: 3.0930 - probs_loss: 1.9179 - win_loss: 0.9734 - probs_acc: 0.4619 - win_acc: 0.0266\n",
      "index 312, data size 125300\n",
      "Epoch 1/1\n",
      "3915/3915 [==============================] - 236s 60ms/step - loss: 3.0230 - probs_loss: 1.8478 - win_loss: 0.9741 - probs_acc: 0.4770 - win_acc: 0.0259\n",
      "index 313, data size 143784\n",
      "Epoch 1/1\n",
      "4493/4493 [==============================] - 269s 60ms/step - loss: 2.8697 - probs_loss: 1.7091 - win_loss: 0.9594 - probs_acc: 0.5224 - win_acc: 0.0406\n",
      "index 314, data size 136132\n",
      "Epoch 1/1\n",
      "4254/4254 [==============================] - 242s 57ms/step - loss: 3.1052 - probs_loss: 1.9205 - win_loss: 0.9802 - probs_acc: 0.4606 - win_acc: 0.0197\n",
      "index 315, data size 120284\n",
      "Epoch 1/1\n",
      "3758/3758 [==============================] - 202s 54ms/step - loss: 3.0830 - probs_loss: 1.8866 - win_loss: 0.9947 - probs_acc: 0.4628 - win_acc: 0.0053\n",
      "index 316, data size 133736\n",
      "Epoch 1/1\n",
      "4179/4179 [==============================] - 223s 53ms/step - loss: 2.9692 - probs_loss: 1.8194 - win_loss: 0.9473 - probs_acc: 0.4911 - win_acc: 0.0527\n",
      "index 317, data size 120988\n",
      "Epoch 1/1\n",
      "3780/3780 [==============================] - 223s 59ms/step - loss: 3.0922 - probs_loss: 1.9026 - win_loss: 0.9910 - probs_acc: 0.4531 - win_acc: 0.0089\n",
      "index 318, data size 121872\n",
      "Epoch 1/1\n",
      "1428/3808 [==========>...................] - ETA: 2:15 - loss: 3.0627 - probs_loss: 1.8792 - win_loss: 0.9875 - probs_acc: 0.4660 - win_acc: 0.0124"
     ]
    }
   ],
   "source": [
    "PATH_TO_MODELS = 'good_ones/policy_{}.h5'\n",
    "MODEL = None\n",
    "BATCH_SIZE = 32\n",
    "\n",
    "for ind in range(0, 400):\n",
    "    if ind < 360:\n",
    "        continue\n",
    "    if os.path.isfile(PATH_TO_MODELS.format(str(ind))):\n",
    "        if not os.path.isfile(PATH_TO_MODELS.format(str(ind + 1))):\n",
    "            print('model loaded from file ' + PATH_TO_MODELS.format(str(ind)))\n",
    "            model = load_model(PATH_TO_MODELS.format(str(ind)))\n",
    "        continue\n",
    "    train_data = get_train_data(ind)\n",
    "    print('index {}, data size {}'.format(str(ind), len(train_data)))\n",
    "    model.fit_generator(generator(train_data), epochs=1, verbose=1,\n",
    "                        steps_per_epoch=len(train_data) // BATCH_SIZE,\n",
    "                        shuffle=True)\n",
    "    model.save(PATH_TO_MODELS.format(str(ind)))\n",
    "    Model = model"
   ]
  }
 ],
 "metadata": {
  "kernelspec": {
   "display_name": "Python 3",
   "language": "python",
   "name": "python3"
  },
  "language_info": {
   "codemirror_mode": {
    "name": "ipython",
    "version": 3
   },
   "file_extension": ".py",
   "mimetype": "text/x-python",
   "name": "python",
   "nbconvert_exporter": "python",
   "pygments_lexer": "ipython3",
   "version": "3.7.1"
  }
 },
 "nbformat": 4,
 "nbformat_minor": 2
}
