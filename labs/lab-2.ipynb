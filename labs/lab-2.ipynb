{
 "cells": [
  {
   "cell_type": "markdown",
   "metadata": {},
   "source": [
    "# L2 – Multilayer perceptron\n",
    "\n",
    "### PyTorch\n",
    "1. [Installing PyTorch](https://pytorch.org/get-started/locally/)\n",
    "2. [What is PyTorch?](https://pytorch.org/tutorials/beginner/blitz/tensor_tutorial.html#sphx-glr-beginner-blitz-tensor-tutorial-py)\n",
    "3. [Autograd](https://pytorch.org/tutorials/beginner/blitz/autograd_tutorial.html#sphx-glr-beginner-blitz-autograd-tutorial-py)\n",
    "4. [Useful examples](https://pytorch.org/tutorials/beginner/pytorch_with_examples.html)\n",
    "5. [Mnist example](https://habr.com/company/otus/blog/358096/)\n",
    "\n",
    "\n",
    "### One more thing\n",
    "1. [Jupyter tutorial](https://habrahabr.ru/company/wunderfund/blog/316826/)\n",
    "2. [Plot.ly](https://plot.ly/python/)\n",
    "3. [Widgets](http://jupyter.org/widgets.html)"
   ]
  },
  {
   "cell_type": "markdown",
   "metadata": {},
   "source": [
    "# Pytorch"
   ]
  },
  {
   "cell_type": "markdown",
   "metadata": {},
   "source": [
    "### 1. Linear multi-classification problem\n",
    "\n",
    "We have already learned binary linear classifier\n",
    "$$y = \\text{sign}(w^Tx).$$\n",
    "There are [several approaches](https://en.wikipedia.org/wiki/Multiclass_classification) to solve the problem of multi-class classification. For example [reduction](https://en.wikipedia.org/wiki/Multiclass_classification#Transformation_to_Binary) of problem to binary classifier or [modification](https://en.wikipedia.org/wiki/Support_vector_machine#Multiclass_SVM) of the known model. However we are interested in approaches that is applied in neural networks.\n",
    "\n",
    "For each class $c \\in 1, \\dots, |C|$ we have an individual row $w_i$ of matrix $W$. Then the probability of $x$ belonging to a particular class is equal to\n",
    "$$p_i = \\frac{\\exp(w^T_ix)}{\\sum_j \\exp(w^T_jx)}.$$\n",
    "This is nothing, but [softmax](https://en.wikipedia.org/wiki/Softmax_function) function of $Wx$.\n",
    "$$(p_1, \\dots, p_{|C|}) = \\text{softmax}(Wx).$$\n",
    "\n",
    "If you look closely, $\\text{softmax}$ is a more general variant of sigmoid. To see this, it suffices to consider the case $|C|=2$. As usual the training can be reduced to minimization of the empirical risk, namely, optimization problem\n",
    "$$\\arg\\min_W Q(W) = \\arg\\min_W -\\frac{1}{\\mathcal{l}}\\sum_y\\sum_i [y = i] \\cdot \\ln(p_i(W)).$$\n",
    "Actually, the maximization of the log-likelihood is written above.\n",
    "\n",
    "#### Exercises\n",
    "1. Find $\\frac{dQ}{dW}$ in matrix form (hint: start with $\\frac{dQ}{dw_i}$ for begining).\n",
    "2. Please plot several mnist images (e.g using grid 5x5).\n",
    "3. Train linear multi-label classifier for [mnist](https://www.kaggle.com/c/digit-recognizer) dataset (possible, [this tutorial](https://habr.com/company/otus/blog/358096/) can help you).\n",
    "4. Chek accuracy on train and validation sets (visualize resulted graph)."
   ]
  },
  {
   "cell_type": "code",
   "execution_count": 2,
   "metadata": {},
   "outputs": [
    {
     "name": "stdout",
     "output_type": "stream",
     "text": [
      "Once deleted, variables cannot be recovered. Proceed (y/[n])? y\n"
     ]
    }
   ],
   "source": [
    "%reset"
   ]
  },
  {
   "cell_type": "code",
   "execution_count": 3,
   "metadata": {},
   "outputs": [],
   "source": [
    "# Import Libraries\n",
    "import torch\n",
    "import torch.nn as nn\n",
    "import torchvision.transforms as transforms\n",
    "from torch.autograd import Variable\n",
    "import pandas as pd\n",
    "from sklearn.model_selection import train_test_split\n",
    "import numpy as np\n",
    "import matplotlib.pyplot as plt"
   ]
  },
  {
   "cell_type": "code",
   "execution_count": 6,
   "metadata": {},
   "outputs": [
    {
     "name": "stdout",
     "output_type": "stream",
     "text": [
      "<class 'pandas.core.frame.DataFrame'>\n",
      "RangeIndex: 42000 entries, 0 to 41999\n",
      "Columns: 785 entries, label to pixel783\n",
      "dtypes: float32(785)\n",
      "memory usage: 125.8 MB\n",
      "None\n",
      "targets numpy: (42000,)\n",
      "features numpy: (42000, 784)\n",
      "!!! [[0. 0. 0. ... 0. 0. 0.]\n",
      " [0. 0. 0. ... 0. 0. 0.]\n",
      " [0. 0. 0. ... 0. 0. 0.]\n",
      " ...\n",
      " [0. 0. 0. ... 0. 0. 0.]\n",
      " [0. 0. 0. ... 0. 0. 0.]\n",
      " [0. 0. 0. ... 0. 0. 0.]]\n",
      "<class 'numpy.ndarray'>\n",
      "??? <class 'numpy.float32'>\n",
      "features train: torch.Size([33600, 784])\n",
      "\n",
      "targets train: torch.Size([33600])\n",
      "\n",
      "features test: torch.Size([8400, 784])\n",
      "\n",
      "targets test: torch.Size([8400])\n",
      "\n"
     ]
    }
   ],
   "source": [
    "# Prepare Dataset\n",
    "# load data\n",
    "train = pd.read_csv(r\"mnist_input/train.csv\", dtype=np.float32)\n",
    "print(train.info())\n",
    "\n",
    "# split data into features(pixels) and labels(numbers from 0 to 9)\n",
    "targets_numpy = train.label.values\n",
    "features_numpy = train.loc[:,train.columns != \"label\"].values / 255 # normalization\n",
    "print(\"targets numpy: {}\".format(targets_numpy.shape))\n",
    "print(\"features numpy: {}\".format(features_numpy.shape))\n",
    "\n",
    "\n",
    "# train test split. Size of train data is 80% and size of test data is 20%. \n",
    "features_train, features_test, targets_train, targets_test = train_test_split(features_numpy,\n",
    "                                                                             targets_numpy,\n",
    "                                                                             test_size=0.2,\n",
    "                                                                             random_state=42) \n",
    "\n",
    "print(\"!!!\", features_train)\n",
    "print(type(features_train))\n",
    "print(\"???\", type(features_train[0][0]))\n",
    "# create feature and targets tensor for train set. As you remember we need variable to accumulate gradients. Therefore first we create tensor, then we will create variable\n",
    "featuresTrain = torch.from_numpy(features_train)\n",
    "targetsTrain = torch.from_numpy(targets_train).type(torch.LongTensor) # data type is long\n",
    "print(\"features train: {}\\n\".format(featuresTrain.shape))\n",
    "print(\"targets train: {}\\n\".format(targetsTrain.shape))\n",
    "\n",
    "# create feature and targets tensor for test set.\n",
    "featuresTest = torch.from_numpy(features_test)\n",
    "targetsTest = torch.from_numpy(targets_test).type(torch.LongTensor) # data type is long\n",
    "print(\"features test: {}\\n\".format(featuresTest.shape))\n",
    "print(\"targets test: {}\\n\".format(targetsTest.shape))\n",
    "\n",
    "# batch_size, epoch and iteration\n",
    "batch_size = 100\n",
    "n_iters = 10000\n",
    "num_epochs = 100\n",
    "num_epochs = int(num_epochs)\n",
    "\n",
    "# Pytorch train and test sets\n",
    "train = torch.utils.data.TensorDataset(featuresTrain, targetsTrain)\n",
    "test = torch.utils.data.TensorDataset(featuresTest, targetsTest)\n",
    "\n",
    "# data loader\n",
    "# https://pytorch.org/tutorials/beginner/data_loading_tutorial.html\n",
    "# We do not set up shuffle to true as it was already shuffled by train_test_split\n",
    "train_loader = torch.utils.data.DataLoader(train, batch_size = batch_size)\n",
    "test_loader = torch.utils.data.DataLoader(test, batch_size = batch_size)"
   ]
  },
  {
   "cell_type": "code",
   "execution_count": 288,
   "metadata": {},
   "outputs": [
    {
     "data": {
      "image/png": "[encoded data removed]",
      "text/plain": [
       "<Figure size 432x288 with 25 Axes>"
      ]
     },
     "metadata": {},
     "output_type": "display_data"
    }
   ],
   "source": [
    "# visualize several of the images in data set\n",
    "fig = plt.figure()\n",
    "for i in range(25):\n",
    "  plt.subplot(5,5,i+1)\n",
    "  plt.tight_layout()\n",
    "  plt.imshow(features_numpy[i].reshape(28, 28), cmap='gray', interpolation='none')\n",
    "  plt.xticks([])\n",
    "  plt.yticks([])"
   ]
  },
  {
   "cell_type": "code",
   "execution_count": 289,
   "metadata": {},
   "outputs": [],
   "source": [
    "class Net(nn.Module):\n",
    "    def __init__(self):\n",
    "        super(Net, self).__init__()\n",
    "        self.linear1 = nn.Linear(28*28, 10)\n",
    "    \n",
    "    def forward(self, x):\n",
    "        out = self.linear1(x)\n",
    "        return out"
   ]
  },
  {
   "cell_type": "code",
   "execution_count": 290,
   "metadata": {},
   "outputs": [],
   "source": [
    "model = Net()\n",
    "error = nn.CrossEntropyLoss()\n",
    "\n",
    "learning_rate = 0.001\n",
    "optimizer = torch.optim.SGD(model.parameters(), lr=learning_rate)"
   ]
  },
  {
   "cell_type": "markdown",
   "metadata": {},
   "source": [
    "As we have 33600 samples, batch size is 100 then 1 epoch takes 336 iterations.\n",
    "\n",
    "number of epochs - number of times the whole data is trained."
   ]
  },
  {
   "cell_type": "code",
   "execution_count": 292,
   "metadata": {},
   "outputs": [
    {
     "name": "stdout",
     "output_type": "stream",
     "text": [
      "Epoch 0, Iteration: 1  Loss: 2.3356566429138184  Accuracy: 7%\n",
      "Epoch 3, Iteration: 1009  Loss: 1.4951612949371338  Accuracy: 74%\n",
      "Epoch 6, Iteration: 2017  Loss: 1.10698401927948  Accuracy: 79%\n",
      "Epoch 9, Iteration: 3025  Loss: 0.9051502346992493  Accuracy: 82%\n",
      "Epoch 12, Iteration: 4033  Loss: 0.7842991352081299  Accuracy: 82%\n",
      "Epoch 15, Iteration: 5041  Loss: 0.7040551900863647  Accuracy: 83%\n",
      "Epoch 18, Iteration: 6049  Loss: 0.6467719078063965  Accuracy: 84%\n",
      "Epoch 21, Iteration: 7057  Loss: 0.6036975383758545  Accuracy: 84%\n",
      "Epoch 24, Iteration: 8065  Loss: 0.5700324177742004  Accuracy: 85%\n",
      "Epoch 27, Iteration: 9073  Loss: 0.5429304242134094  Accuracy: 85%\n",
      "Epoch 30, Iteration: 10081  Loss: 0.5205958485603333  Accuracy: 85%\n",
      "Epoch 33, Iteration: 11089  Loss: 0.5018393397331238  Accuracy: 86%\n",
      "Epoch 36, Iteration: 12097  Loss: 0.48584043979644775  Accuracy: 86%\n",
      "Epoch 39, Iteration: 13105  Loss: 0.47201481461524963  Accuracy: 86%\n",
      "Epoch 42, Iteration: 14113  Loss: 0.4599330425262451  Accuracy: 86%\n",
      "Epoch 45, Iteration: 15121  Loss: 0.44927462935447693  Accuracy: 86%\n",
      "Epoch 48, Iteration: 16129  Loss: 0.4397929012775421  Accuracy: 87%\n",
      "Epoch 51, Iteration: 17137  Loss: 0.4312956631183624  Accuracy: 87%\n",
      "Epoch 54, Iteration: 18145  Loss: 0.4236315190792084  Accuracy: 87%\n",
      "Epoch 57, Iteration: 19153  Loss: 0.41667845845222473  Accuracy: 87%\n",
      "Epoch 60, Iteration: 20161  Loss: 0.41033774614334106  Accuracy: 87%\n",
      "Epoch 63, Iteration: 21169  Loss: 0.40452808141708374  Accuracy: 87%\n",
      "Epoch 66, Iteration: 22177  Loss: 0.3991820514202118  Accuracy: 87%\n",
      "Epoch 69, Iteration: 23185  Loss: 0.39424359798431396  Accuracy: 87%\n",
      "Epoch 72, Iteration: 24193  Loss: 0.38966503739356995  Accuracy: 87%\n",
      "Epoch 75, Iteration: 25201  Loss: 0.3854060471057892  Accuracy: 88%\n",
      "Epoch 78, Iteration: 26209  Loss: 0.3814324140548706  Accuracy: 88%\n",
      "Epoch 81, Iteration: 27217  Loss: 0.37771445512771606  Accuracy: 88%\n",
      "Epoch 84, Iteration: 28225  Loss: 0.3742262125015259  Accuracy: 88%\n",
      "Epoch 87, Iteration: 29233  Loss: 0.37094593048095703  Accuracy: 88%\n",
      "Epoch 90, Iteration: 30241  Loss: 0.3678537607192993  Accuracy: 88%\n",
      "Epoch 93, Iteration: 31249  Loss: 0.3649330139160156  Accuracy: 88%\n",
      "Epoch 96, Iteration: 32257  Loss: 0.36216840147972107  Accuracy: 88%\n",
      "Epoch 99, Iteration: 33265  Loss: 0.359546422958374  Accuracy: 88%\n"
     ]
    }
   ],
   "source": [
    "# Traning the Model\n",
    "count = 0\n",
    "log_period = 50\n",
    "loss_list = []\n",
    "iteration_list = []\n",
    "for epoch in range(num_epochs):\n",
    "    for i, (images, labels) in enumerate(train_loader):\n",
    "        # Define variables\n",
    "        train = Variable(images.view(-1, 28*28))\n",
    "        labels = Variable(labels)\n",
    "        # Clear gradients\n",
    "        optimizer.zero_grad()\n",
    "        # Forward propagation\n",
    "        outputs = model(train)\n",
    "        # Calculate softmax and cross entropy loss\n",
    "        loss = error(outputs, labels)\n",
    "        # Calculate gradients\n",
    "        loss.backward()\n",
    "        # Update parameters\n",
    "        optimizer.step()\n",
    "        count += 1\n",
    "        # Prediction\n",
    "        if (count - 1) % log_period == 0:\n",
    "            # Calculate Accuracy (for graphs later)         \n",
    "            correct = 0\n",
    "            total = 0\n",
    "            # Predict test dataset\n",
    "            for images, labels in test_loader: \n",
    "                test = Variable(images.view(-1, 28*28))\n",
    "                # Forward propagation\n",
    "                outputs = model(test)\n",
    "                # Get predictions from the maximum value\n",
    "                predicted = torch.max(outputs.data, 1)[1]\n",
    "                # Total number of labels\n",
    "                total += len(labels)\n",
    "                # Total correct predictions\n",
    "                correct += (predicted == labels).sum()\n",
    "            accuracy = 100 * correct / float(total)\n",
    "            # store loss and iteration\n",
    "            loss_list.append(loss.data)\n",
    "            iteration_list.append(count)\n",
    "        if epoch % 3 == 0 and (count - 1) % 336 == 0:\n",
    "            # Print Loss\n",
    "            print('Epoch {}, Iteration: {}  Loss: {}  Accuracy: {}%'.format(epoch, count, loss.data, accuracy))"
   ]
  },
  {
   "cell_type": "code",
   "execution_count": 293,
   "metadata": {},
   "outputs": [
    {
     "data": {
      "image/png": "[encoded data removed]",
      "text/plain": [
       "<Figure size 432x288 with 1 Axes>"
      ]
     },
     "metadata": {},
     "output_type": "display_data"
    }
   ],
   "source": [
    "# visualization\n",
    "plt.plot(iteration_list, loss_list)\n",
    "plt.xlabel(\"Number of iteration\")\n",
    "plt.ylabel(\"Loss\")\n",
    "plt.show()"
   ]
  },
  {
   "cell_type": "markdown",
   "metadata": {},
   "source": [
    "Let's briefly touch on themes of regularization. As was discussed before, there are different approaches. We focus on the modification of loss function.\n",
    "\n",
    "$$\\arg\\min_W -\\frac{1}{\\mathcal{l}}\\sum_y\\sum_i [y = i] \\cdot \\ln(p_i(W)) + \\lambda_1 L_1(W) + \\lambda_2 L_2(W)$$\n",
    "\n",
    "1. $L_1(W) = sum_{i,j} |w_{i,j}|$ - sparsify weights (force to not use uncorrelated features)\n",
    "2. $L_2(W) = sum_{i,j} w_{i,j}^2$ - minimize weights (force to not overfit)\n",
    "\n",
    "#### Exercises\n",
    "1. Train model again using both type of regularization.\n",
    "2. Plot matrix of weights.\n",
    "3. Which pixels have zero weights? What does it mean?\n",
    "4. Have you improved accuracy on validation?"
   ]
  },
  {
   "cell_type": "markdown",
   "metadata": {},
   "source": [
    "## Adding regularization"
   ]
  },
  {
   "cell_type": "code",
   "execution_count": 311,
   "metadata": {},
   "outputs": [],
   "source": [
    "model = Net()\n",
    "error = nn.CrossEntropyLoss()\n",
    "lambda1 = 0.001\n",
    "lambda2 = 0.001\n",
    "\n",
    "learning_rate = 0.001\n",
    "optimizer = torch.optim.SGD(model.parameters(), lr=learning_rate)"
   ]
  },
  {
   "cell_type": "code",
   "execution_count": 312,
   "metadata": {},
   "outputs": [
    {
     "name": "stdout",
     "output_type": "stream",
     "text": [
      "Epoch 0, Iteration: 1  Loss: 2.4606738090515137  Accuracy: 12%\n",
      "Epoch 3, Iteration: 1009  Loss: 1.636593222618103  Accuracy: 76%\n",
      "Epoch 6, Iteration: 2017  Loss: 1.2750190496444702  Accuracy: 80%\n",
      "Epoch 9, Iteration: 3025  Loss: 1.0918614864349365  Accuracy: 82%\n",
      "Epoch 12, Iteration: 4033  Loss: 0.9843042492866516  Accuracy: 83%\n",
      "Epoch 15, Iteration: 5041  Loss: 0.9138143658638  Accuracy: 83%\n",
      "Epoch 18, Iteration: 6049  Loss: 0.8639422655105591  Accuracy: 84%\n",
      "Epoch 21, Iteration: 7057  Loss: 0.8266137838363647  Accuracy: 84%\n",
      "Epoch 24, Iteration: 8065  Loss: 0.7976602911949158  Accuracy: 85%\n",
      "Epoch 27, Iteration: 9073  Loss: 0.7744062542915344  Accuracy: 85%\n",
      "Epoch 30, Iteration: 10081  Loss: 0.7552582621574402  Accuracy: 85%\n",
      "Epoch 33, Iteration: 11089  Loss: 0.7392275929450989  Accuracy: 85%\n",
      "Epoch 36, Iteration: 12097  Loss: 0.7254965305328369  Accuracy: 86%\n",
      "Epoch 39, Iteration: 13105  Loss: 0.7136600017547607  Accuracy: 86%\n",
      "Epoch 42, Iteration: 14113  Loss: 0.7033464312553406  Accuracy: 86%\n",
      "Epoch 45, Iteration: 15121  Loss: 0.6942901611328125  Accuracy: 86%\n",
      "Epoch 48, Iteration: 16129  Loss: 0.6862388849258423  Accuracy: 86%\n",
      "Epoch 51, Iteration: 17137  Loss: 0.6791438460350037  Accuracy: 86%\n",
      "Epoch 54, Iteration: 18145  Loss: 0.6728365421295166  Accuracy: 86%\n",
      "Epoch 57, Iteration: 19153  Loss: 0.6671658754348755  Accuracy: 86%\n",
      "Epoch 60, Iteration: 20161  Loss: 0.6620359420776367  Accuracy: 86%\n",
      "Epoch 63, Iteration: 21169  Loss: 0.6573478579521179  Accuracy: 87%\n",
      "Epoch 66, Iteration: 22177  Loss: 0.6530937552452087  Accuracy: 87%\n",
      "Epoch 69, Iteration: 23185  Loss: 0.6492557525634766  Accuracy: 87%\n",
      "Epoch 72, Iteration: 24193  Loss: 0.6458168029785156  Accuracy: 87%\n",
      "Epoch 75, Iteration: 25201  Loss: 0.6426771879196167  Accuracy: 87%\n",
      "Epoch 78, Iteration: 26209  Loss: 0.6398084759712219  Accuracy: 87%\n",
      "Epoch 81, Iteration: 27217  Loss: 0.6372112035751343  Accuracy: 87%\n",
      "Epoch 84, Iteration: 28225  Loss: 0.634861409664154  Accuracy: 87%\n",
      "Epoch 87, Iteration: 29233  Loss: 0.6327564716339111  Accuracy: 87%\n",
      "Epoch 90, Iteration: 30241  Loss: 0.6308567523956299  Accuracy: 87%\n",
      "Epoch 93, Iteration: 31249  Loss: 0.6291998028755188  Accuracy: 87%\n",
      "Epoch 96, Iteration: 32257  Loss: 0.6277176737785339  Accuracy: 87%\n",
      "Epoch 99, Iteration: 33265  Loss: 0.6263999938964844  Accuracy: 87%\n"
     ]
    }
   ],
   "source": [
    "# Traning the Model\n",
    "count = 0\n",
    "log_period = 50\n",
    "loss_list = []\n",
    "iteration_list = []\n",
    "for epoch in range(num_epochs):\n",
    "    for i, (images, labels) in enumerate(train_loader):\n",
    "        # Define variables\n",
    "        train = Variable(images.view(-1, 28*28))\n",
    "        labels = Variable(labels)\n",
    "        # Clear gradients\n",
    "        optimizer.zero_grad()\n",
    "        # Forward propagation\n",
    "        outputs = model(train)\n",
    "        # Calculate softmax and cross entropy loss\n",
    "        loss = error(outputs, labels)\n",
    "        L1Loss, L2Loss = 0, 0\n",
    "        for row in model.linear1.weight:\n",
    "            L1Loss += torch.sum(torch.abs(row))\n",
    "            L2Loss += torch.sum(row ** 2)   \n",
    "        loss += lambda1 * L1Loss + lambda2 * L2Loss\n",
    "        # Calculate gradients\n",
    "        loss.backward()\n",
    "        # Update parameters\n",
    "        optimizer.step()\n",
    "        count += 1\n",
    "        # Prediction\n",
    "        if (count - 1) % log_period == 0:\n",
    "            # Calculate Accuracy (for graphs later)         \n",
    "            correct = 0\n",
    "            total = 0\n",
    "            # Predict test dataset\n",
    "            for images, labels in test_loader: \n",
    "                test = Variable(images.view(-1, 28*28))\n",
    "                # Forward propagation\n",
    "                outputs = model(test)\n",
    "                # Get predictions from the maximum value\n",
    "                predicted = torch.max(outputs.data, 1)[1]\n",
    "                # Total number of labels\n",
    "                total += len(labels)\n",
    "                # Total correct predictions\n",
    "                correct += (predicted == labels).sum()\n",
    "            accuracy = 100 * correct / float(total)\n",
    "            # store loss and iteration\n",
    "            loss_list.append(loss.data)\n",
    "            iteration_list.append(count)\n",
    "        if epoch % 3 == 0 and (count - 1) % 336 == 0:\n",
    "            # Print Loss\n",
    "            print('Epoch {}, Iteration: {}  Loss: {}  Accuracy: {}%'.format(epoch, count, loss.data, accuracy))"
   ]
  },
  {
   "cell_type": "markdown",
   "metadata": {},
   "source": [
    "It isn't better so lets return to the previous model"
   ]
  },
  {
   "cell_type": "code",
   "execution_count": 313,
   "metadata": {},
   "outputs": [],
   "source": [
    "model = Net()\n",
    "error = nn.CrossEntropyLoss()\n",
    "\n",
    "learning_rate = 0.001\n",
    "optimizer = torch.optim.SGD(model.parameters(), lr=learning_rate)"
   ]
  },
  {
   "cell_type": "code",
   "execution_count": 314,
   "metadata": {},
   "outputs": [
    {
     "name": "stdout",
     "output_type": "stream",
     "text": [
      "Epoch 0, Iteration: 1  Loss: 2.3198909759521484  Accuracy: 8%\n",
      "Epoch 3, Iteration: 1009  Loss: 1.4847216606140137  Accuracy: 76%\n",
      "Epoch 6, Iteration: 2017  Loss: 1.098168134689331  Accuracy: 80%\n",
      "Epoch 9, Iteration: 3025  Loss: 0.8974569439888  Accuracy: 82%\n",
      "Epoch 12, Iteration: 4033  Loss: 0.7776815891265869  Accuracy: 82%\n",
      "Epoch 15, Iteration: 5041  Loss: 0.6983141899108887  Accuracy: 83%\n",
      "Epoch 18, Iteration: 6049  Loss: 0.6417055726051331  Accuracy: 84%\n",
      "Epoch 21, Iteration: 7057  Loss: 0.5991445183753967  Accuracy: 84%\n",
      "Epoch 24, Iteration: 8065  Loss: 0.5658730864524841  Accuracy: 85%\n",
      "Epoch 27, Iteration: 9073  Loss: 0.539077639579773  Accuracy: 85%\n",
      "Epoch 30, Iteration: 10081  Loss: 0.5169862508773804  Accuracy: 85%\n",
      "Epoch 33, Iteration: 11089  Loss: 0.4984265863895416  Accuracy: 86%\n",
      "Epoch 36, Iteration: 12097  Loss: 0.4825902283191681  Accuracy: 86%\n",
      "Epoch 39, Iteration: 13105  Loss: 0.4689016342163086  Accuracy: 86%\n",
      "Epoch 42, Iteration: 14113  Loss: 0.4569380581378937  Accuracy: 86%\n",
      "Epoch 45, Iteration: 15121  Loss: 0.44638240337371826  Accuracy: 86%\n",
      "Epoch 48, Iteration: 16129  Loss: 0.4369920492172241  Accuracy: 86%\n",
      "Epoch 51, Iteration: 17137  Loss: 0.42857733368873596  Accuracy: 87%\n",
      "Epoch 54, Iteration: 18145  Loss: 0.4209887385368347  Accuracy: 87%\n",
      "Epoch 57, Iteration: 19153  Loss: 0.41410544514656067  Accuracy: 87%\n",
      "Epoch 60, Iteration: 20161  Loss: 0.4078297019004822  Accuracy: 87%\n",
      "Epoch 63, Iteration: 21169  Loss: 0.40208080410957336  Accuracy: 87%\n",
      "Epoch 66, Iteration: 22177  Loss: 0.3967925012111664  Accuracy: 87%\n",
      "Epoch 69, Iteration: 23185  Loss: 0.39190876483917236  Accuracy: 87%\n",
      "Epoch 72, Iteration: 24193  Loss: 0.3873823881149292  Accuracy: 87%\n",
      "Epoch 75, Iteration: 25201  Loss: 0.38317352533340454  Accuracy: 87%\n",
      "Epoch 78, Iteration: 26209  Loss: 0.3792479634284973  Accuracy: 88%\n",
      "Epoch 81, Iteration: 27217  Loss: 0.37557658553123474  Accuracy: 88%\n",
      "Epoch 84, Iteration: 28225  Loss: 0.3721332252025604  Accuracy: 88%\n",
      "Epoch 87, Iteration: 29233  Loss: 0.36889636516571045  Accuracy: 88%\n",
      "Epoch 90, Iteration: 30241  Loss: 0.365846186876297  Accuracy: 88%\n",
      "Epoch 93, Iteration: 31249  Loss: 0.3629661798477173  Accuracy: 88%\n",
      "Epoch 96, Iteration: 32257  Loss: 0.3602411150932312  Accuracy: 88%\n",
      "Epoch 99, Iteration: 33265  Loss: 0.3576575517654419  Accuracy: 88%\n"
     ]
    }
   ],
   "source": [
    "# Traning the Model\n",
    "count = 0\n",
    "log_period = 50\n",
    "loss_list = []\n",
    "iteration_list = []\n",
    "for epoch in range(num_epochs):\n",
    "    for i, (images, labels) in enumerate(train_loader):\n",
    "        # Define variables\n",
    "        train = Variable(images.view(-1, 28*28))\n",
    "        labels = Variable(labels)\n",
    "        # Clear gradients\n",
    "        optimizer.zero_grad()\n",
    "        # Forward propagation\n",
    "        outputs = model(train)\n",
    "        # Calculate softmax and cross entropy loss\n",
    "        loss = error(outputs, labels)\n",
    "        # Calculate gradients\n",
    "        loss.backward()\n",
    "        # Update parameters\n",
    "        optimizer.step()\n",
    "        count += 1\n",
    "        # Prediction\n",
    "        if (count - 1) % log_period == 0:\n",
    "            # Calculate Accuracy (for graphs later)         \n",
    "            correct = 0\n",
    "            total = 0\n",
    "            # Predict test dataset\n",
    "            for images, labels in test_loader: \n",
    "                test = Variable(images.view(-1, 28*28))\n",
    "                # Forward propagation\n",
    "                outputs = model(test)\n",
    "                # Get predictions from the maximum value\n",
    "                predicted = torch.max(outputs.data, 1)[1]\n",
    "                # Total number of labels\n",
    "                total += len(labels)\n",
    "                # Total correct predictions\n",
    "                correct += (predicted == labels).sum()\n",
    "            accuracy = 100 * correct / float(total)\n",
    "            # store loss and iteration\n",
    "            loss_list.append(loss.data)\n",
    "            iteration_list.append(count)\n",
    "        if epoch % 3 == 0 and (count - 1) % 336 == 0:\n",
    "            # Print Loss\n",
    "            print('Epoch {}, Iteration: {}  Loss: {}  Accuracy: {}%'.format(epoch, count, loss.data, accuracy))"
   ]
  },
  {
   "cell_type": "markdown",
   "metadata": {},
   "source": [
    "## Weights plot"
   ]
  },
  {
   "cell_type": "code",
   "execution_count": 354,
   "metadata": {},
   "outputs": [
    {
     "data": {
      "text/plain": [
       "<matplotlib.image.AxesImage at 0x12fda12b0>"
      ]
     },
     "execution_count": 354,
     "metadata": {},
     "output_type": "execute_result"
    },
    {
     "data": {
      "image/png": "[encoded data removed]",
      "text/plain": [
       "<Figure size 432x288 with 1 Axes>"
      ]
     },
     "metadata": {},
     "output_type": "display_data"
    }
   ],
   "source": [
    "plt.imshow(model.linear1.weight.detach().numpy(), aspect='auto')"
   ]
  },
  {
   "cell_type": "code",
   "execution_count": 362,
   "metadata": {},
   "outputs": [
    {
     "data": {
      "image/png": "[encoded data removed]",
      "text/plain": [
       "<Figure size 1440x720 with 10 Axes>"
      ]
     },
     "metadata": {},
     "output_type": "display_data"
    }
   ],
   "source": [
    "plt.figure(figsize=(20,10))\n",
    "for i in range(2):\n",
    "    for j in range(5):\n",
    "        plt.subplot2grid((2,5), (i, j))\n",
    "        plt.imshow(model.linear1.weight[i * 5 + j].detach().numpy().reshape(28, 28))\n",
    "plt.show()"
   ]
  },
  {
   "cell_type": "code",
   "execution_count": 364,
   "metadata": {},
   "outputs": [
    {
     "data": {
      "image/png": "[encoded data removed]",
      "text/plain": [
       "<Figure size 1440x720 with 10 Axes>"
      ]
     },
     "metadata": {},
     "output_type": "display_data"
    }
   ],
   "source": [
    "from copy import deepcopy\n",
    "matrix = deepcopy(model.linear1.weight)\n",
    "for i in range(len(matrix)):\n",
    "    for j in range(len(matrix[i])):\n",
    "        matrix[i][j] = (matrix[i][j] == 0)\n",
    "\n",
    "plt.figure(figsize=(20,10))\n",
    "for i in range(2):\n",
    "    for j in range(5):\n",
    "        plt.subplot2grid((2,5), (i, j))\n",
    "        plt.imshow(matrix[i * 5 + j].detach().numpy().reshape(28, 28))\n",
    "plt.show()"
   ]
  },
  {
   "cell_type": "markdown",
   "metadata": {},
   "source": [
    "As we can see: no zeros"
   ]
  },
  {
   "cell_type": "markdown",
   "metadata": {},
   "source": [
    "### 2. Universal approximation theorem\n",
    "\n",
    "What if we add more layers to our model? Namely, we train two matrix $W_2$ and $W_1$\n",
    "$$softmax(W_2\\cdot(W_1x)).$$\n",
    "\n",
    "At first glance adding more parameters helps to increase the generalizing ability of the model. Buy actually we have the same model $softmax(Wx)$, where $W = W_2\\cdot W_1$. But everyting changes with adding ome more layer. Let's add nonlinear function $\\sigma$ between $W_2$ and $W_1$\n",
    "\n",
    "$$softmax(W_2\\cdot \\sigma(W_1x)).$$\n",
    "\n",
    "Kurt Hornik showed in 1991 that it is not the specific choice of the nonlinear function, but rather the multilayer feedforward architecture itself which gives neural networks the potential of being universal approximators. The output units are always assumed to be linear. For notational convenience, only the single output case will be shown. The general case can easily be deduced from the single output case.\n",
    "\n",
    "Let $\\sigma(\\cdot)$ be a nonconstant, bounded, and monotonically-increasing continuous function.\n",
    "Let $\\mathcal{S}_m \\subset \\mathbb{R}^m$ denote any compact set. \n",
    "Then, given any $\\varepsilon > 0$ and any coninuous function $f$ on $\\mathcal{S}_m$, there exist an integer $N$ and real constants $v_i$, $b_i$ amd real vectors $w_i$ that\n",
    "\n",
    "$$\\left| \\sum _{i=1}^{N}v_{i}\\sigma \\left( w_i^{T} x+b_i \\right) - f(x) \\right| < \\varepsilon, ~~~ \\forall x \\in \\mathcal{S}_m.$$\n",
    "\n",
    "The theorem has non-constructive proof, it meams that no estimates for $N$ and no method to find approximation's parameters.\n",
    "\n",
    "#### Exercises\n",
    "1. Let $\\sigma$ – [heaviside step function](https://en.wikipedia.org/wiki/Heaviside_step_function) and $x \\in \\{0, 1\\}^2$. Prove that $y = \\sigma(wx + b)$ can approximate boolean function **OR** (hint: use constructive proof).\n",
    "2. What about **AND** function?\n",
    "3. Is it possible to implement **XOR**? Prove your words.\n",
    "4. Prove that 2-layer network can implement any boolean function.\n",
    "\n",
    "#### More useful facts:\n",
    "1. A 2-layer network in in $\\mathbb{R}^n$ allows to define convex polyhedron..\n",
    "2. A 3-layer network in в $\\mathbb{R}^n$ allows to define a not necessarily convex and not even necessarily connected area."
   ]
  },
  {
   "cell_type": "markdown",
   "metadata": {},
   "source": [
    "### 3. Backpropagation\n",
    "Backpropagation is a method used to calculate the error contribution of each layer after a batch of data. It is a special case of an older and more general technique called automatic differentiation. In the context of learning, backpropagation is commonly used by the gradient descent optimization algorithm to adjust the weight of layers by calculating the gradient of the loss function. This technique is also sometimes called backward propagation of errors, because the error is calculated at the output and distributed back through the network layers. The main motivation of method is simplify evaluation of gradient which is complex problem for multilayer nets.\n",
    "\n",
    "We need the following notation. Let $(y^1,\\dots,y^n) = f(x^1,\\dots,x^n)$ is some differentiable function and $\\frac{dy}{dx}$ is matrix\n",
    "$$\\frac{dy}{dx} = \\Big[ J_{ij} = \\frac{\\partial y^i}{\\partial x^j} \\Big]$$\n",
    "\n",
    "Without violating the generality, we can assume that each layer is a function $x_{i} = f(x_{i-1}, w_i)$. As last layer we add loss function, so we can assume our multi-layer net as function $Q(x_0) = Q(f_n(f_{n-1}(\\dots, w_{n-1}), w_n))$.\n",
    "\n",
    "#### Forward step\n",
    "Propagation forward through the network to generate the output values. Calculation of the loss function.\n",
    "\n",
    "#### Backward step\n",
    "Let's look at last layer. We can simply find $\\frac{dQ}{dx_n}$. Now we can evaluate \n",
    "\n",
    "$$\\frac{dQ}{dw_n} = \\frac{dQ}{dx_n}\\frac{dx_n}{dw_n} \\text{ and } \\frac{dQ}{dx_{n-1}} = \\frac{dQ}{dx_n}\\frac{dx_n}{dx_{n-1}}$$\n",
    "\n",
    "Now we need calculate $\\frac{dQ}{dw_{n-2}}$ и $\\frac{dQ}{dx_{n-2}}$. But we have the same situation. We know $\\frac{dQ}{dx_k}$, so can evaluate $\\frac{dQ}{dw_k}$ and $\\frac{dQ}{dx_{k-1}}$. Repeating this operation we find all the gradients. Now it's only remains to make a gradient step to update weights.\n",
    "\n",
    "#### Exercises\n",
    "1. Read more about [vanishing gradient](https://en.wikipedia.org/wiki/Vanishing_gradient_problem).\n",
    "2. Train 2 layer net. Use sigmoid as nonlinearity.\n",
    "3. Check accuracy on validation set.\n",
    "4. Use [ReLu](https://en.wikipedia.org/wiki/Rectifier_(neural_networks) or LeakyReLu as nonlinearity. Compare accuracy and convergence with previous model.\n",
    "5. Play with different architectures (add more layers, regularization and etc).\n",
    "6. Show your best model.\n",
    "7. How does quality change with adding layers. Prove your words, train model for 2, 3, 5, 7 and 10 layers.\n",
    "8. Using backpropagation find optimal  digit 8 for your net.*"
   ]
  },
  {
   "cell_type": "code",
   "execution_count": 388,
   "metadata": {},
   "outputs": [
    {
     "name": "stdout",
     "output_type": "stream",
     "text": [
      "Once deleted, variables cannot be recovered. Proceed (y/[n])? y\n"
     ]
    }
   ],
   "source": [
    "%reset"
   ]
  },
  {
   "cell_type": "code",
   "execution_count": 432,
   "metadata": {},
   "outputs": [],
   "source": [
    "# Import Libraries\n",
    "import torch\n",
    "import torch.nn as nn\n",
    "import torchvision.transforms as transforms\n",
    "from torch.autograd import Variable\n",
    "import pandas as pd\n",
    "from sklearn.model_selection import train_test_split\n",
    "import numpy as np\n",
    "import matplotlib.pyplot as plt\n",
    "import torch.nn.functional as F"
   ]
  },
  {
   "cell_type": "code",
   "execution_count": 394,
   "metadata": {},
   "outputs": [
    {
     "name": "stdout",
     "output_type": "stream",
     "text": [
      "<class 'pandas.core.frame.DataFrame'>\n",
      "RangeIndex: 42000 entries, 0 to 41999\n",
      "Columns: 785 entries, label to pixel783\n",
      "dtypes: float32(785)\n",
      "memory usage: 125.8 MB\n",
      "None\n",
      "targets numpy: (42000,)\n",
      "features numpy: (42000, 784)\n",
      "features train: torch.Size([33600, 784])\n",
      "\n",
      "targets train: torch.Size([33600])\n",
      "\n",
      "features test: torch.Size([8400, 784])\n",
      "\n",
      "targets test: torch.Size([8400])\n",
      "\n"
     ]
    }
   ],
   "source": [
    "# Prepare Dataset\n",
    "# load data\n",
    "train = pd.read_csv(r\"mnist_input/train.csv\", dtype=np.float32)\n",
    "print(train.info())\n",
    "\n",
    "# split data into features(pixels) and labels(numbers from 0 to 9)\n",
    "targets_numpy = train.label.values\n",
    "features_numpy = train.loc[:,train.columns != \"label\"].values / 255 # normalization\n",
    "print(\"targets numpy: {}\".format(targets_numpy.shape))\n",
    "print(\"features numpy: {}\".format(features_numpy.shape))\n",
    "\n",
    "\n",
    "# train test split. Size of train data is 80% and size of test data is 20%. \n",
    "features_train, features_test, targets_train, targets_test = train_test_split(features_numpy,\n",
    "                                                                             targets_numpy,\n",
    "                                                                             test_size=0.2,\n",
    "                                                                             random_state=42) \n",
    "\n",
    "# create feature and targets tensor for train set. As you remember we need variable to accumulate gradients. Therefore first we create tensor, then we will create variable\n",
    "featuresTrain = torch.from_numpy(features_train)\n",
    "targetsTrain = torch.from_numpy(targets_train).type(torch.LongTensor) # data type is long\n",
    "print(\"features train: {}\\n\".format(featuresTrain.shape))\n",
    "print(\"targets train: {}\\n\".format(targetsTrain.shape))\n",
    "\n",
    "# create feature and targets tensor for test set.\n",
    "featuresTest = torch.from_numpy(features_test)\n",
    "targetsTest = torch.from_numpy(targets_test).type(torch.LongTensor) # data type is long\n",
    "print(\"features test: {}\\n\".format(featuresTest.shape))\n",
    "print(\"targets test: {}\\n\".format(targetsTest.shape))\n",
    "\n",
    "# batch_size, epoch and iteration\n",
    "batch_size = 100\n",
    "n_iters = 10000\n",
    "num_epochs = 100\n",
    "num_epochs = int(num_epochs)\n",
    "\n",
    "# Pytorch train and test sets\n",
    "train = torch.utils.data.TensorDataset(featuresTrain, targetsTrain)\n",
    "test = torch.utils.data.TensorDataset(featuresTest, targetsTest)\n",
    "\n",
    "# data loader\n",
    "# https://pytorch.org/tutorials/beginner/data_loading_tutorial.html\n",
    "# We do not set up shuffle to true as it was already shuffled by train_test_split\n",
    "train_loader = torch.utils.data.DataLoader(train, batch_size = batch_size)\n",
    "test_loader = torch.utils.data.DataLoader(test, batch_size = batch_size)"
   ]
  },
  {
   "cell_type": "code",
   "execution_count": 433,
   "metadata": {},
   "outputs": [],
   "source": [
    "class TwoLayerLinearNet(nn.Module):\n",
    "    def __init__(self):\n",
    "        super(TwoLayerLinearNet, self).__init__()\n",
    "        self.linear1 = nn.Linear(28*28, 100)\n",
    "        self.linear2 = nn.Linear(100, 10)\n",
    "    \n",
    "    def forward(self, x):\n",
    "        out = self.linear2(self.linear1(x))\n",
    "        return out\n",
    "    \n",
    "class ThreeLayerLinearNet(nn.Module):\n",
    "    def __init__(self):\n",
    "        super(ThreeLayerLinearNet, self).__init__()\n",
    "        self.linear1 = nn.Linear(28*28, 100)\n",
    "        self.linear2 = nn.Linear(100, 50)\n",
    "        self.linear3 = nn.Linear(50, 10)\n",
    "    \n",
    "    def forward(self, x):\n",
    "        out = self.linear3(self.linear2(self.linear1(x)))\n",
    "        return out"
   ]
  },
  {
   "cell_type": "code",
   "execution_count": 399,
   "metadata": {},
   "outputs": [],
   "source": [
    "num_epochs = 60\n",
    "num_epochs = int(num_epochs)\n",
    "\n",
    "learning_rate = 0.001"
   ]
  },
  {
   "cell_type": "code",
   "execution_count": 434,
   "metadata": {},
   "outputs": [],
   "source": [
    "def train(model, error, optimizer):\n",
    "    # Traning the Model\n",
    "    count = 0\n",
    "    log_period = 50\n",
    "    loss_list = []\n",
    "    iteration_list = []\n",
    "    for epoch in range(num_epochs):\n",
    "        for i, (images, labels) in enumerate(train_loader):\n",
    "            # Define variables\n",
    "            train = Variable(images.view(-1, 28*28))\n",
    "            labels = Variable(labels)\n",
    "            # Clear gradients\n",
    "            optimizer.zero_grad()\n",
    "            # Forward propagation\n",
    "            outputs = model(train)\n",
    "            # Calculate softmax and cross entropy loss\n",
    "            loss = error(outputs, labels)\n",
    "            # Calculate gradients\n",
    "            loss.backward()\n",
    "            # Update parameters\n",
    "            optimizer.step()\n",
    "            count += 1\n",
    "            # Prediction\n",
    "            if (count - 1) % log_period == 0:\n",
    "                # Calculate Accuracy (for graphs later)         \n",
    "                correct = 0\n",
    "                total = 0\n",
    "                # Predict test dataset\n",
    "                for images, labels in test_loader: \n",
    "                    test = Variable(images.view(-1, 28*28))\n",
    "                    # Forward propagation\n",
    "                    outputs = model(test)\n",
    "                    # Get predictions from the maximum value\n",
    "                    predicted = torch.max(outputs.data, 1)[1]\n",
    "                    # Total number of labels\n",
    "                    total += len(labels)\n",
    "                    # Total correct predictions\n",
    "                    correct += (predicted == labels).sum()\n",
    "                accuracy = 100 * correct / float(total)\n",
    "                # store loss and iteration\n",
    "                loss_list.append(loss.data)\n",
    "                iteration_list.append(count)\n",
    "            if epoch % 3 == 0 and (count - 1) % 336 == 0:\n",
    "                # Print Loss\n",
    "                print('Epoch {}, Iteration: {}  Loss: {}  Accuracy: {}%'.format(epoch, count, loss.data, accuracy))"
   ]
  },
  {
   "cell_type": "code",
   "execution_count": 489,
   "metadata": {},
   "outputs": [
    {
     "name": "stdout",
     "output_type": "stream",
     "text": [
      "Epoch 0, Iteration: 1  Loss: 2.3294641971588135  Accuracy: 12%\n",
      "Epoch 3, Iteration: 1009  Loss: 0.4500657021999359  Accuracy: 86%\n",
      "Epoch 6, Iteration: 2017  Loss: 0.321450799703598  Accuracy: 88%\n",
      "Epoch 9, Iteration: 3025  Loss: 0.2863503694534302  Accuracy: 89%\n",
      "Epoch 12, Iteration: 4033  Loss: 0.2693973779678345  Accuracy: 89%\n",
      "Epoch 15, Iteration: 5041  Loss: 0.2588057816028595  Accuracy: 90%\n",
      "Epoch 18, Iteration: 6049  Loss: 0.251211941242218  Accuracy: 90%\n",
      "Epoch 21, Iteration: 7057  Loss: 0.2452930510044098  Accuracy: 90%\n",
      "Epoch 24, Iteration: 8065  Loss: 0.24041929841041565  Accuracy: 91%\n",
      "Epoch 27, Iteration: 9073  Loss: 0.2362470179796219  Accuracy: 91%\n",
      "Epoch 30, Iteration: 10081  Loss: 0.23257024586200714  Accuracy: 91%\n",
      "Epoch 33, Iteration: 11089  Loss: 0.22925575077533722  Accuracy: 91%\n",
      "Epoch 36, Iteration: 12097  Loss: 0.22621415555477142  Accuracy: 91%\n",
      "Epoch 39, Iteration: 13105  Loss: 0.223383828997612  Accuracy: 91%\n",
      "Epoch 42, Iteration: 14113  Loss: 0.2207210659980774  Accuracy: 91%\n",
      "Epoch 45, Iteration: 15121  Loss: 0.21819476783275604  Accuracy: 91%\n",
      "Epoch 48, Iteration: 16129  Loss: 0.21578305959701538  Accuracy: 91%\n"
     ]
    }
   ],
   "source": [
    "learning_rate = 0.01\n",
    "num_epochs = 50\n",
    "two_layer_linear_net = TwoLayerLinearNet()\n",
    "two_layer_linear_error = nn.CrossEntropyLoss()\n",
    "two_layer_linear_optimizer = torch.optim.SGD(two_layer_linear_net.parameters(), lr=learning_rate)\n",
    "train(two_layer_linear_net, two_layer_linear_error, two_layer_linear_optimizer)"
   ]
  },
  {
   "cell_type": "code",
   "execution_count": 490,
   "metadata": {},
   "outputs": [
    {
     "name": "stdout",
     "output_type": "stream",
     "text": [
      "Epoch 0, Iteration: 1  Loss: 2.304287910461426  Accuracy: 10%\n",
      "Epoch 3, Iteration: 1009  Loss: 0.4568483829498291  Accuracy: 84%\n",
      "Epoch 6, Iteration: 2017  Loss: 0.2747062146663666  Accuracy: 88%\n",
      "Epoch 9, Iteration: 3025  Loss: 0.2449067234992981  Accuracy: 89%\n",
      "Epoch 12, Iteration: 4033  Loss: 0.23500271141529083  Accuracy: 90%\n",
      "Epoch 15, Iteration: 5041  Loss: 0.23003767430782318  Accuracy: 90%\n",
      "Epoch 18, Iteration: 6049  Loss: 0.22656947374343872  Accuracy: 91%\n",
      "Epoch 21, Iteration: 7057  Loss: 0.2235412448644638  Accuracy: 91%\n",
      "Epoch 24, Iteration: 8065  Loss: 0.22064414620399475  Accuracy: 91%\n",
      "Epoch 27, Iteration: 9073  Loss: 0.21777500212192535  Accuracy: 91%\n",
      "Epoch 30, Iteration: 10081  Loss: 0.21489040553569794  Accuracy: 91%\n",
      "Epoch 33, Iteration: 11089  Loss: 0.21197563409805298  Accuracy: 91%\n",
      "Epoch 36, Iteration: 12097  Loss: 0.20903578400611877  Accuracy: 91%\n",
      "Epoch 39, Iteration: 13105  Loss: 0.20608827471733093  Accuracy: 91%\n",
      "Epoch 42, Iteration: 14113  Loss: 0.2031569629907608  Accuracy: 91%\n",
      "Epoch 45, Iteration: 15121  Loss: 0.20026737451553345  Accuracy: 91%\n",
      "Epoch 48, Iteration: 16129  Loss: 0.19744355976581573  Accuracy: 91%\n"
     ]
    }
   ],
   "source": [
    "learning_rate = 0.01\n",
    "num_epochs = 50\n",
    "three_layer_linear_net = ThreeLayerLinearNet()\n",
    "three_layer_linear_error = nn.CrossEntropyLoss()\n",
    "three_layer_linear_optimizer = torch.optim.SGD(three_layer_linear_net.parameters(), lr=learning_rate)\n",
    "train(three_layer_linear_net, three_layer_linear_error, three_layer_linear_optimizer)"
   ]
  },
  {
   "cell_type": "code",
   "execution_count": 481,
   "metadata": {},
   "outputs": [],
   "source": [
    "class SigmoidAndLinearNet(nn.Module):\n",
    "    def __init__(self):\n",
    "        super(SigmoidAndLinearNet, self).__init__()\n",
    "        self.linear1 = nn.Linear(28*28, 50)\n",
    "        self.sigm = nn.Sigmoid()\n",
    "        self.linear2 = nn.Linear(50, 10)\n",
    "    \n",
    "    def forward(self, x):\n",
    "        out = self.linear2(self.sigm(self.linear1(x)))\n",
    "        return out\n",
    "    \n",
    "    \n",
    "class ReLuAndLinearNet(nn.Module):\n",
    "    def __init__(self):\n",
    "        super(ReLuAndLinearNet, self).__init__()\n",
    "        self.linear1 = nn.Linear(28*28, 100)\n",
    "        self.linear2 = nn.Linear(100, 50)\n",
    "        self.relu1 = nn.ReLU()\n",
    "        self.relu2 = nn.LeakyReLU()\n",
    "        self.linear3 = nn.Linear(50, 10)\n",
    "    \n",
    "    def forward(self, x):\n",
    "        out = self.linear3(self.relu1(self.linear2(self.relu2(self.linear1(x)))))\n",
    "        return out\n",
    "    \n",
    "    \n",
    "class ExperimentalNet(nn.Module):\n",
    "    def __init__(self):\n",
    "        super(ExperimentalNet, self).__init__()\n",
    "        self.linear1 = nn.Linear(28*28, 100)\n",
    "        self.linear2 = nn.Linear(100, 100)\n",
    "        self.relu1 = nn.ReLU()\n",
    "        self.tanh = nn.Tanh()\n",
    "        self.relu2 = nn.LeakyReLU()\n",
    "        self.elu = nn.ELU()\n",
    "        self.linear3 = nn.Linear(100, 100)\n",
    "        self.linear4 = nn.Linear(100, 10)\n",
    "    \n",
    "    def forward(self, x):\n",
    "        out = self.linear4(self.elu(self.linear3(self.tanh(self.linear2(self.relu1(self.linear1(x)))))))\n",
    "        return out\n",
    "    \n",
    "    \n",
    "class ExperimentalNet2(nn.Module):\n",
    "    def __init__(self):\n",
    "        super(ExperimentalNet2, self).__init__()\n",
    "        self.linear1 = nn.Linear(28*28, 300)\n",
    "        self.linear2 = nn.Linear(300, 300)\n",
    "        self.relu1 = nn.ReLU()\n",
    "        self.tanh = nn.Tanh()\n",
    "        self.relu2 = nn.LeakyReLU()\n",
    "        self.elu = nn.ELU()\n",
    "        self.linear3 = nn.Linear(300, 100)\n",
    "        self.linear4 = nn.Linear(100, 100)\n",
    "        self.linear5 = nn.Linear(100, 10)\n",
    "    \n",
    "    def forward(self, x):\n",
    "        out = self.linear5(self.elu(self.linear4(\n",
    "            self.tanh(self.linear3(self.elu(self.linear2(self.relu1(self.linear1(x))))))\n",
    "        )))\n",
    "        return out"
   ]
  },
  {
   "cell_type": "code",
   "execution_count": 485,
   "metadata": {},
   "outputs": [
    {
     "name": "stdout",
     "output_type": "stream",
     "text": [
      "Epoch 0, Iteration: 1  Loss: 2.324115753173828  Accuracy: 10%\n",
      "Epoch 3, Iteration: 1009  Loss: 1.8968820571899414  Accuracy: 62%\n",
      "Epoch 6, Iteration: 2017  Loss: 1.2602367401123047  Accuracy: 73%\n",
      "Epoch 9, Iteration: 3025  Loss: 0.8783667087554932  Accuracy: 79%\n",
      "Epoch 12, Iteration: 4033  Loss: 0.6790421009063721  Accuracy: 82%\n",
      "Epoch 15, Iteration: 5041  Loss: 0.5604228377342224  Accuracy: 84%\n",
      "Epoch 18, Iteration: 6049  Loss: 0.48220089077949524  Accuracy: 86%\n",
      "Epoch 21, Iteration: 7057  Loss: 0.42739173769950867  Accuracy: 87%\n",
      "Epoch 24, Iteration: 8065  Loss: 0.3875897228717804  Accuracy: 87%\n",
      "Epoch 27, Iteration: 9073  Loss: 0.3579484224319458  Accuracy: 88%\n",
      "Epoch 30, Iteration: 10081  Loss: 0.3353649377822876  Accuracy: 88%\n",
      "Epoch 33, Iteration: 11089  Loss: 0.31775400042533875  Accuracy: 88%\n",
      "Epoch 36, Iteration: 12097  Loss: 0.30369094014167786  Accuracy: 89%\n",
      "Epoch 39, Iteration: 13105  Loss: 0.292195200920105  Accuracy: 89%\n",
      "Epoch 42, Iteration: 14113  Loss: 0.28258585929870605  Accuracy: 89%\n",
      "Epoch 45, Iteration: 15121  Loss: 0.2743850648403168  Accuracy: 89%\n",
      "Epoch 48, Iteration: 16129  Loss: 0.26725295186042786  Accuracy: 89%\n"
     ]
    }
   ],
   "source": [
    "learning_rate = 0.01\n",
    "num_epochs = 50\n",
    "sigmoid_and_linear_net = SigmoidAndLinearNet()\n",
    "sigmoid_and_linear_error = nn.CrossEntropyLoss()\n",
    "sigmoid_and_linear_optimizer = torch.optim.SGD(sigmoid_and_linear_net.parameters(), lr=learning_rate)\n",
    "train(sigmoid_and_linear_net, sigmoid_and_linear_error, sigmoid_and_linear_optimizer)"
   ]
  },
  {
   "cell_type": "code",
   "execution_count": 486,
   "metadata": {},
   "outputs": [
    {
     "name": "stdout",
     "output_type": "stream",
     "text": [
      "Epoch 0, Iteration: 1  Loss: 2.3002357482910156  Accuracy: 11%\n",
      "Epoch 3, Iteration: 1009  Loss: 0.6492135524749756  Accuracy: 80%\n",
      "Epoch 6, Iteration: 2017  Loss: 0.31615135073661804  Accuracy: 87%\n",
      "Epoch 9, Iteration: 3025  Loss: 0.26374882459640503  Accuracy: 89%\n",
      "Epoch 12, Iteration: 4033  Loss: 0.24149402976036072  Accuracy: 90%\n",
      "Epoch 15, Iteration: 5041  Loss: 0.2258473038673401  Accuracy: 90%\n",
      "Epoch 18, Iteration: 6049  Loss: 0.21323560178279877  Accuracy: 91%\n",
      "Epoch 21, Iteration: 7057  Loss: 0.20121292769908905  Accuracy: 92%\n",
      "Epoch 24, Iteration: 8065  Loss: 0.18635103106498718  Accuracy: 92%\n",
      "Epoch 27, Iteration: 9073  Loss: 0.16989047825336456  Accuracy: 92%\n",
      "Epoch 30, Iteration: 10081  Loss: 0.15563099086284637  Accuracy: 93%\n",
      "Epoch 33, Iteration: 11089  Loss: 0.14282912015914917  Accuracy: 93%\n",
      "Epoch 36, Iteration: 12097  Loss: 0.13220888376235962  Accuracy: 93%\n",
      "Epoch 39, Iteration: 13105  Loss: 0.12267173826694489  Accuracy: 94%\n",
      "Epoch 42, Iteration: 14113  Loss: 0.11353273689746857  Accuracy: 94%\n",
      "Epoch 45, Iteration: 15121  Loss: 0.1053248792886734  Accuracy: 94%\n",
      "Epoch 48, Iteration: 16129  Loss: 0.0984484851360321  Accuracy: 94%\n"
     ]
    }
   ],
   "source": [
    "learning_rate = 0.01\n",
    "num_epochs = 50\n",
    "relu_and_linear_net = ReLuAndLinearNet()\n",
    "relu_and_linear_error = nn.CrossEntropyLoss()\n",
    "relu_and_linear_optimizer = torch.optim.SGD(relu_and_linear_net.parameters(), lr=learning_rate)\n",
    "train(relu_and_linear_net, relu_and_linear_error, relu_and_linear_optimizer)"
   ]
  },
  {
   "cell_type": "code",
   "execution_count": 487,
   "metadata": {},
   "outputs": [
    {
     "name": "stdout",
     "output_type": "stream",
     "text": [
      "Epoch 0, Iteration: 1  Loss: 2.3157119750976562  Accuracy: 7%\n",
      "Epoch 3, Iteration: 1009  Loss: 0.7819704413414001  Accuracy: 79%\n",
      "Epoch 6, Iteration: 2017  Loss: 0.36917001008987427  Accuracy: 87%\n",
      "Epoch 9, Iteration: 3025  Loss: 0.3001646399497986  Accuracy: 89%\n",
      "Epoch 12, Iteration: 4033  Loss: 0.25226664543151855  Accuracy: 90%\n",
      "Epoch 15, Iteration: 5041  Loss: 0.21390372514724731  Accuracy: 91%\n",
      "Epoch 18, Iteration: 6049  Loss: 0.18087947368621826  Accuracy: 92%\n",
      "Epoch 21, Iteration: 7057  Loss: 0.15356354415416718  Accuracy: 93%\n",
      "Epoch 24, Iteration: 8065  Loss: 0.13244803249835968  Accuracy: 94%\n",
      "Epoch 27, Iteration: 9073  Loss: 0.11405079066753387  Accuracy: 94%\n",
      "Epoch 30, Iteration: 10081  Loss: 0.09900902956724167  Accuracy: 94%\n",
      "Epoch 33, Iteration: 11089  Loss: 0.08618129789829254  Accuracy: 95%\n",
      "Epoch 36, Iteration: 12097  Loss: 0.07512832432985306  Accuracy: 95%\n",
      "Epoch 39, Iteration: 13105  Loss: 0.06559783965349197  Accuracy: 95%\n",
      "Epoch 42, Iteration: 14113  Loss: 0.05716069042682648  Accuracy: 95%\n",
      "Epoch 45, Iteration: 15121  Loss: 0.049469880759716034  Accuracy: 96%\n",
      "Epoch 48, Iteration: 16129  Loss: 0.04351507127285004  Accuracy: 96%\n"
     ]
    }
   ],
   "source": [
    "learning_rate = 0.01\n",
    "num_epochs = 50\n",
    "experimental_net = ExperimentalNet()\n",
    "experimental_error = nn.CrossEntropyLoss()\n",
    "experimental_optimizer = torch.optim.SGD(experimental_net.parameters(), lr=learning_rate)\n",
    "train(experimental_net, experimental_error, experimental_optimizer)"
   ]
  },
  {
   "cell_type": "code",
   "execution_count": 493,
   "metadata": {},
   "outputs": [
    {
     "name": "stdout",
     "output_type": "stream",
     "text": [
      "Epoch 0, Iteration: 1  Loss: 2.3057150840759277  Accuracy: 10%\n",
      "Epoch 3, Iteration: 1009  Loss: 0.21751560270786285  Accuracy: 91%\n",
      "Epoch 6, Iteration: 2017  Loss: 0.07035063952207565  Accuracy: 95%\n",
      "Epoch 9, Iteration: 3025  Loss: 0.023981112986803055  Accuracy: 96%\n",
      "Epoch 12, Iteration: 4033  Loss: 0.012336568906903267  Accuracy: 96%\n",
      "Epoch 15, Iteration: 5041  Loss: 0.006296415347605944  Accuracy: 96%\n",
      "Epoch 18, Iteration: 6049  Loss: 0.003806810360401869  Accuracy: 96%\n",
      "Epoch 21, Iteration: 7057  Loss: 0.0021551132667809725  Accuracy: 97%\n",
      "Epoch 24, Iteration: 8065  Loss: 0.0014522266574203968  Accuracy: 97%\n",
      "Epoch 27, Iteration: 9073  Loss: 0.0010733222588896751  Accuracy: 97%\n",
      "Epoch 30, Iteration: 10081  Loss: 0.0009199142223224044  Accuracy: 97%\n",
      "Epoch 33, Iteration: 11089  Loss: 0.0008215427515096962  Accuracy: 97%\n",
      "Epoch 36, Iteration: 12097  Loss: 0.0007476997561752796  Accuracy: 97%\n",
      "Epoch 39, Iteration: 13105  Loss: 0.0006604099180549383  Accuracy: 97%\n",
      "Epoch 42, Iteration: 14113  Loss: 0.0005724525544792414  Accuracy: 97%\n",
      "Epoch 45, Iteration: 15121  Loss: 0.0004988193395547569  Accuracy: 97%\n",
      "Epoch 48, Iteration: 16129  Loss: 0.0004394817224238068  Accuracy: 97%\n"
     ]
    }
   ],
   "source": [
    "learning_rate = 0.05\n",
    "num_epochs = 50\n",
    "experimental_net2 = ExperimentalNet2()\n",
    "experimental_error2 = nn.CrossEntropyLoss()\n",
    "experimental_optimizer2 = torch.optim.SGD(experimental_net2.parameters(), lr=learning_rate)\n",
    "train(experimental_net2, experimental_error2, experimental_optimizer2)"
   ]
  },
  {
   "cell_type": "code",
   "execution_count": 494,
   "metadata": {},
   "outputs": [
    {
     "name": "stdout",
     "output_type": "stream",
     "text": [
      "Epoch 0, Iteration: 1  Loss: 2.303971290588379  Accuracy: 12%\n",
      "Epoch 3, Iteration: 1009  Loss: 0.11951088905334473  Accuracy: 94%\n",
      "Epoch 6, Iteration: 2017  Loss: 0.03382687643170357  Accuracy: 96%\n",
      "Epoch 9, Iteration: 3025  Loss: 0.007313509006053209  Accuracy: 96%\n",
      "Epoch 12, Iteration: 4033  Loss: 0.0018531609093770385  Accuracy: 97%\n",
      "Epoch 15, Iteration: 5041  Loss: 0.000630283378995955  Accuracy: 97%\n",
      "Epoch 18, Iteration: 6049  Loss: 0.0002845859562512487  Accuracy: 97%\n",
      "Epoch 21, Iteration: 7057  Loss: 0.0002183532778872177  Accuracy: 97%\n",
      "Epoch 24, Iteration: 8065  Loss: 0.00016972541925497353  Accuracy: 97%\n",
      "Epoch 27, Iteration: 9073  Loss: 0.00013737678818870336  Accuracy: 97%\n",
      "Epoch 30, Iteration: 10081  Loss: 0.00011797904880950227  Accuracy: 97%\n",
      "Epoch 33, Iteration: 11089  Loss: 0.00010221481352346018  Accuracy: 97%\n",
      "Epoch 36, Iteration: 12097  Loss: 9.14478296181187e-05  Accuracy: 97%\n",
      "Epoch 39, Iteration: 13105  Loss: 8.12149082776159e-05  Accuracy: 97%\n",
      "Epoch 42, Iteration: 14113  Loss: 7.342338358284906e-05  Accuracy: 97%\n",
      "Epoch 45, Iteration: 15121  Loss: 6.660461076535285e-05  Accuracy: 97%\n",
      "Epoch 48, Iteration: 16129  Loss: 6.039619620423764e-05  Accuracy: 97%\n"
     ]
    }
   ],
   "source": [
    "learning_rate = 0.1\n",
    "num_epochs = 50\n",
    "experimental_net3 = ExperimentalNet2()\n",
    "experimental_error3 = nn.CrossEntropyLoss()\n",
    "experimental_optimizer3 = torch.optim.SGD(experimental_net3.parameters(), lr=learning_rate)\n",
    "train(experimental_net3, experimental_error3, experimental_optimizer3)"
   ]
  },
  {
   "cell_type": "markdown",
   "metadata": {},
   "source": [
    "### 4. Autoencoders\n",
    "An autoencoder is an network used for unsupervised learning of efficient codings. The aim of an autoencoder is to learn a representation (encoding) for a set of data, typically for the purpose of dimensionality reduction. Also, this technique can be used to train deep nets.\n",
    "\n",
    "Architecturally, the simplest form of an autoencoder is a feedforward net very similar to the multilayer perceptron (MLP), but with the output layer having the same number of nodes as the input layer, and with the purpose of reconstructing its own inputs. Therefore, autoencoders are unsupervised learning models. An autoencoder always consists of two parts, the encoder and the decoder. Encoder returns latent representation of the object (compressed representation, usuallu smaller dimension), but decoder restores object from this latent representation. Autoencoders are also trained to minimise reconstruction errors (e.g. MSE).\n",
    "\n",
    "Various techniques exist to prevent autoencoders from learning the identity and to improve their ability to capture important information:\n",
    "1. Denoising autoencoder - take a partially corrupted input.\n",
    "2. Sparse autoencoder - impose sparsity on the hidden units during training (whilst having a larger number of hidden units than inputs).\n",
    "3. Variational autoencoder models inherit autoencoder architecture, but make strong assumptions concerning the distribution of latent variables.\n",
    "4. Contractive autoencoder - add an explicit regularizer in objective function that forces the model to learn a function that is robust to slight variations of input values.\n",
    "\n",
    "#### Exercises\n",
    "1. Train 2 layers autoencoder that compressed mnist images to $\\mathbb{R}^3$ space.\n",
    "2. For each digit plot several samples in 3D axis (use \"%matplotlib notebook\" mode or plotly). How do digits group?\n",
    "3. Train autoencoder with more layers. What are results?\n",
    "4. Use autoencoder to pretrain 2 layers (unsupervised) and then train the following layers with supervised method."
   ]
  },
  {
   "cell_type": "code",
   "execution_count": null,
   "metadata": {},
   "outputs": [],
   "source": []
  }
 ],
 "metadata": {
  "kernelspec": {
   "display_name": "Python 3",
   "language": "python",
   "name": "python3"
  },
  "language_info": {
   "codemirror_mode": {
    "name": "ipython",
    "version": 3
   },
   "file_extension": ".py",
   "mimetype": "text/x-python",
   "name": "python",
   "nbconvert_exporter": "python",
   "pygments_lexer": "ipython3",
   "version": "3.6.5"
  }
 },
 "nbformat": 4,
 "nbformat_minor": 1
}
